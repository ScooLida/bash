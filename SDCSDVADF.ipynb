{
 "cells": [
  {
   "cell_type": "markdown",
   "source": [
    "sergtsgsg"
   ],
   "metadata": {
    "collapsed": false
   },
   "id": "1ea891ca0a66f4e3"
  },
  {
   "cell_type": "code",
   "execution_count": null,
   "outputs": [],
   "source": [
    "def test():\n",
    "    return \n",
    "\n"
   ],
   "metadata": {
    "collapsed": false
   },
   "id": "940707e34f6d64f4"
  },
  {
   "cell_type": "code",
   "execution_count": 3,
   "outputs": [
    {
     "data": {
      "text/plain": "4"
     },
     "execution_count": 3,
     "metadata": {},
     "output_type": "execute_result"
    }
   ],
   "source": [
    "sum([2,2])\n",
    "\n"
   ],
   "metadata": {
    "collapsed": false,
    "ExecuteTime": {
     "end_time": "2023-09-02T14:50:31.585917755Z",
     "start_time": "2023-09-02T14:50:31.572617085Z"
    }
   },
   "id": "ac979917ed4cd109"
  },
  {
   "cell_type": "code",
   "execution_count": 4,
   "outputs": [
    {
     "data": {
      "text/plain": "4"
     },
     "execution_count": 4,
     "metadata": {},
     "output_type": "execute_result"
    }
   ],
   "source": [
    "sum([2,2])"
   ],
   "metadata": {
    "collapsed": false,
    "ExecuteTime": {
     "end_time": "2023-09-02T14:50:40.525304178Z",
     "start_time": "2023-09-02T14:50:40.498643545Z"
    }
   },
   "id": "64b14bf969ebc745"
  },
  {
   "cell_type": "code",
   "execution_count": 8,
   "outputs": [
    {
     "data": {
      "text/plain": "4"
     },
     "execution_count": 8,
     "metadata": {},
     "output_type": "execute_result"
    }
   ],
   "source": [
    "sum([2,2])"
   ],
   "metadata": {
    "collapsed": false,
    "ExecuteTime": {
     "end_time": "2023-09-02T14:50:54.852220167Z",
     "start_time": "2023-09-02T14:50:54.844110590Z"
    }
   },
   "id": "77db406aa21a8bbc"
  }
 ],
 "metadata": {
  "kernelspec": {
   "display_name": "Python 3",
   "language": "python",
   "name": "python3"
  },
  "language_info": {
   "codemirror_mode": {
    "name": "ipython",
    "version": 2
   },
   "file_extension": ".py",
   "mimetype": "text/x-python",
   "name": "python",
   "nbconvert_exporter": "python",
   "pygments_lexer": "ipython2",
   "version": "2.7.6"
  }
 },
 "nbformat": 4,
 "nbformat_minor": 5
}
